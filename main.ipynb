{
 "cells": [
  {
   "attachments": {},
   "cell_type": "markdown",
   "metadata": {},
   "source": [
    "## Install deps"
   ]
  },
  {
   "cell_type": "code",
   "execution_count": 63,
   "metadata": {},
   "outputs": [],
   "source": [
    "# %pip install pandas\n",
    "# %pip install category_encoders\n",
    "# %pip install scikit-learn\n",
    "# %pip install seaborn"
   ]
  },
  {
   "attachments": {},
   "cell_type": "markdown",
   "metadata": {},
   "source": [
    "## Imports"
   ]
  },
  {
   "cell_type": "code",
   "execution_count": 64,
   "metadata": {},
   "outputs": [],
   "source": [
    "from numpy import absolute\n",
    "from pandas import read_csv\n",
    "from sklearn.model_selection import train_test_split\n",
    "from sklearn.linear_model import Lasso\n",
    "import pandas as pd"
   ]
  },
  {
   "attachments": {},
   "cell_type": "markdown",
   "metadata": {},
   "source": [
    "## Load dataset"
   ]
  },
  {
   "cell_type": "code",
   "execution_count": 65,
   "metadata": {},
   "outputs": [
    {
     "data": {
      "text/html": [
       "<div>\n",
       "<style scoped>\n",
       "    .dataframe tbody tr th:only-of-type {\n",
       "        vertical-align: middle;\n",
       "    }\n",
       "\n",
       "    .dataframe tbody tr th {\n",
       "        vertical-align: top;\n",
       "    }\n",
       "\n",
       "    .dataframe thead th {\n",
       "        text-align: right;\n",
       "    }\n",
       "</style>\n",
       "<table border=\"1\" class=\"dataframe\">\n",
       "  <thead>\n",
       "    <tr style=\"text-align: right;\">\n",
       "      <th></th>\n",
       "      <th>city</th>\n",
       "      <th>floor</th>\n",
       "      <th>floors_count</th>\n",
       "      <th>rooms_count</th>\n",
       "      <th>total_meters</th>\n",
       "      <th>price_per_m2</th>\n",
       "      <th>price</th>\n",
       "      <th>year_of_construction</th>\n",
       "      <th>living_meters</th>\n",
       "      <th>kitchen_meters</th>\n",
       "      <th>district</th>\n",
       "    </tr>\n",
       "  </thead>\n",
       "  <tbody>\n",
       "    <tr>\n",
       "      <th>0</th>\n",
       "      <td>moscow</td>\n",
       "      <td>1</td>\n",
       "      <td>5</td>\n",
       "      <td>1</td>\n",
       "      <td>12.00</td>\n",
       "      <td>291666</td>\n",
       "      <td>3500000</td>\n",
       "      <td>2011</td>\n",
       "      <td>19.0</td>\n",
       "      <td>9.0</td>\n",
       "      <td>tekstil'schiki</td>\n",
       "    </tr>\n",
       "    <tr>\n",
       "      <th>1</th>\n",
       "      <td>moscow</td>\n",
       "      <td>17</td>\n",
       "      <td>41</td>\n",
       "      <td>1</td>\n",
       "      <td>40.40</td>\n",
       "      <td>618811</td>\n",
       "      <td>25000000</td>\n",
       "      <td>2021</td>\n",
       "      <td>15.2</td>\n",
       "      <td>9.1</td>\n",
       "      <td>horoshevskij</td>\n",
       "    </tr>\n",
       "    <tr>\n",
       "      <th>2</th>\n",
       "      <td>moscow</td>\n",
       "      <td>5</td>\n",
       "      <td>14</td>\n",
       "      <td>1</td>\n",
       "      <td>61.97</td>\n",
       "      <td>919799</td>\n",
       "      <td>57000000</td>\n",
       "      <td>2022</td>\n",
       "      <td>19.0</td>\n",
       "      <td>9.0</td>\n",
       "      <td>hamovniki</td>\n",
       "    </tr>\n",
       "    <tr>\n",
       "      <th>3</th>\n",
       "      <td>moscow</td>\n",
       "      <td>9</td>\n",
       "      <td>41</td>\n",
       "      <td>1</td>\n",
       "      <td>40.50</td>\n",
       "      <td>617283</td>\n",
       "      <td>25000000</td>\n",
       "      <td>2022</td>\n",
       "      <td>17.3</td>\n",
       "      <td>9.3</td>\n",
       "      <td>horoshevskij</td>\n",
       "    </tr>\n",
       "    <tr>\n",
       "      <th>4</th>\n",
       "      <td>moscow</td>\n",
       "      <td>12</td>\n",
       "      <td>17</td>\n",
       "      <td>1</td>\n",
       "      <td>47.60</td>\n",
       "      <td>324579</td>\n",
       "      <td>15450000</td>\n",
       "      <td>2019</td>\n",
       "      <td>19.0</td>\n",
       "      <td>10.0</td>\n",
       "      <td>nagatino-sadovniki</td>\n",
       "    </tr>\n",
       "  </tbody>\n",
       "</table>\n",
       "</div>"
      ],
      "text/plain": [
       "     city  floor  floors_count  rooms_count  total_meters  price_per_m2  \\\n",
       "0  moscow      1             5            1         12.00        291666   \n",
       "1  moscow     17            41            1         40.40        618811   \n",
       "2  moscow      5            14            1         61.97        919799   \n",
       "3  moscow      9            41            1         40.50        617283   \n",
       "4  moscow     12            17            1         47.60        324579   \n",
       "\n",
       "      price  year_of_construction  living_meters  kitchen_meters  \\\n",
       "0   3500000                  2011           19.0             9.0   \n",
       "1  25000000                  2021           15.2             9.1   \n",
       "2  57000000                  2022           19.0             9.0   \n",
       "3  25000000                  2022           17.3             9.3   \n",
       "4  15450000                  2019           19.0            10.0   \n",
       "\n",
       "             district  \n",
       "0      tekstil'schiki  \n",
       "1        horoshevskij  \n",
       "2           hamovniki  \n",
       "3        horoshevskij  \n",
       "4  nagatino-sadovniki  "
      ]
     },
     "execution_count": 65,
     "metadata": {},
     "output_type": "execute_result"
    }
   ],
   "source": [
    "dataframe = read_csv(\"clear_all_data.csv\",sep=';')\n",
    "dataframe.head()"
   ]
  },
  {
   "cell_type": "code",
   "execution_count": 66,
   "metadata": {},
   "outputs": [
    {
     "data": {
      "text/html": [
       "<div>\n",
       "<style scoped>\n",
       "    .dataframe tbody tr th:only-of-type {\n",
       "        vertical-align: middle;\n",
       "    }\n",
       "\n",
       "    .dataframe tbody tr th {\n",
       "        vertical-align: top;\n",
       "    }\n",
       "\n",
       "    .dataframe thead th {\n",
       "        text-align: right;\n",
       "    }\n",
       "</style>\n",
       "<table border=\"1\" class=\"dataframe\">\n",
       "  <thead>\n",
       "    <tr style=\"text-align: right;\">\n",
       "      <th></th>\n",
       "      <th>city</th>\n",
       "      <th>floor</th>\n",
       "      <th>floors_count</th>\n",
       "      <th>rooms_count</th>\n",
       "      <th>total_meters</th>\n",
       "      <th>price_per_m2</th>\n",
       "      <th>price</th>\n",
       "      <th>year_of_construction</th>\n",
       "      <th>living_meters</th>\n",
       "      <th>kitchen_meters</th>\n",
       "      <th>district</th>\n",
       "    </tr>\n",
       "  </thead>\n",
       "  <tbody>\n",
       "    <tr>\n",
       "      <th>0</th>\n",
       "      <td>moscow</td>\n",
       "      <td>1</td>\n",
       "      <td>5</td>\n",
       "      <td>1</td>\n",
       "      <td>12.00</td>\n",
       "      <td>291666</td>\n",
       "      <td>3500000</td>\n",
       "      <td>2011</td>\n",
       "      <td>19.0</td>\n",
       "      <td>9.0</td>\n",
       "      <td>tekstil'schiki</td>\n",
       "    </tr>\n",
       "    <tr>\n",
       "      <th>1</th>\n",
       "      <td>moscow</td>\n",
       "      <td>17</td>\n",
       "      <td>41</td>\n",
       "      <td>1</td>\n",
       "      <td>40.40</td>\n",
       "      <td>618811</td>\n",
       "      <td>25000000</td>\n",
       "      <td>2021</td>\n",
       "      <td>15.2</td>\n",
       "      <td>9.1</td>\n",
       "      <td>horoshevskij</td>\n",
       "    </tr>\n",
       "    <tr>\n",
       "      <th>2</th>\n",
       "      <td>moscow</td>\n",
       "      <td>5</td>\n",
       "      <td>14</td>\n",
       "      <td>1</td>\n",
       "      <td>61.97</td>\n",
       "      <td>919799</td>\n",
       "      <td>57000000</td>\n",
       "      <td>2022</td>\n",
       "      <td>19.0</td>\n",
       "      <td>9.0</td>\n",
       "      <td>hamovniki</td>\n",
       "    </tr>\n",
       "    <tr>\n",
       "      <th>3</th>\n",
       "      <td>moscow</td>\n",
       "      <td>9</td>\n",
       "      <td>41</td>\n",
       "      <td>1</td>\n",
       "      <td>40.50</td>\n",
       "      <td>617283</td>\n",
       "      <td>25000000</td>\n",
       "      <td>2022</td>\n",
       "      <td>17.3</td>\n",
       "      <td>9.3</td>\n",
       "      <td>horoshevskij</td>\n",
       "    </tr>\n",
       "    <tr>\n",
       "      <th>4</th>\n",
       "      <td>moscow</td>\n",
       "      <td>12</td>\n",
       "      <td>17</td>\n",
       "      <td>1</td>\n",
       "      <td>47.60</td>\n",
       "      <td>324579</td>\n",
       "      <td>15450000</td>\n",
       "      <td>2019</td>\n",
       "      <td>19.0</td>\n",
       "      <td>10.0</td>\n",
       "      <td>nagatino-sadovniki</td>\n",
       "    </tr>\n",
       "  </tbody>\n",
       "</table>\n",
       "</div>"
      ],
      "text/plain": [
       "     city  floor  floors_count  rooms_count  total_meters  price_per_m2  \\\n",
       "0  moscow      1             5            1         12.00        291666   \n",
       "1  moscow     17            41            1         40.40        618811   \n",
       "2  moscow      5            14            1         61.97        919799   \n",
       "3  moscow      9            41            1         40.50        617283   \n",
       "4  moscow     12            17            1         47.60        324579   \n",
       "\n",
       "      price  year_of_construction  living_meters  kitchen_meters  \\\n",
       "0   3500000                  2011           19.0             9.0   \n",
       "1  25000000                  2021           15.2             9.1   \n",
       "2  57000000                  2022           19.0             9.0   \n",
       "3  25000000                  2022           17.3             9.3   \n",
       "4  15450000                  2019           19.0            10.0   \n",
       "\n",
       "             district  \n",
       "0      tekstil'schiki  \n",
       "1        horoshevskij  \n",
       "2           hamovniki  \n",
       "3        horoshevskij  \n",
       "4  nagatino-sadovniki  "
      ]
     },
     "execution_count": 66,
     "metadata": {},
     "output_type": "execute_result"
    }
   ],
   "source": [
    "dataframe.head()"
   ]
  },
  {
   "cell_type": "code",
   "execution_count": 67,
   "metadata": {},
   "outputs": [],
   "source": [
    "# dataframe = pd.get_dummies(dataframe, columns=[\"district\", \"street\", \"underground\"])\n",
    "# dataframe.head()"
   ]
  },
  {
   "attachments": {},
   "cell_type": "markdown",
   "metadata": {},
   "source": [
    "## Define args and y"
   ]
  },
  {
   "cell_type": "code",
   "execution_count": 68,
   "metadata": {},
   "outputs": [],
   "source": [
    "X = dataframe.drop(\"price_per_m2\", axis=1)\n",
    "y = dataframe.price_per_m2\n"
   ]
  },
  {
   "cell_type": "code",
   "execution_count": 69,
   "metadata": {},
   "outputs": [
    {
     "data": {
      "text/plain": [
       "(8307, 10)"
      ]
     },
     "execution_count": 69,
     "metadata": {},
     "output_type": "execute_result"
    }
   ],
   "source": [
    "X.shape"
   ]
  },
  {
   "cell_type": "code",
   "execution_count": 70,
   "metadata": {},
   "outputs": [
    {
     "data": {
      "text/plain": [
       "(8307,)"
      ]
     },
     "execution_count": 70,
     "metadata": {},
     "output_type": "execute_result"
    }
   ],
   "source": [
    "y.shape"
   ]
  },
  {
   "attachments": {},
   "cell_type": "markdown",
   "metadata": {},
   "source": [
    "## Split to train and test dataframes"
   ]
  },
  {
   "cell_type": "code",
   "execution_count": 71,
   "metadata": {},
   "outputs": [],
   "source": [
    "X_train, X_test, y_train, y_test = train_test_split(X, y, test_size=0.1, shuffle=True)"
   ]
  },
  {
   "attachments": {},
   "cell_type": "markdown",
   "metadata": {},
   "source": [
    "### Encode X train and X test"
   ]
  },
  {
   "cell_type": "code",
   "execution_count": 72,
   "metadata": {},
   "outputs": [],
   "source": [
    "from category_encoders import CatBoostEncoder"
   ]
  },
  {
   "cell_type": "code",
   "execution_count": 73,
   "metadata": {},
   "outputs": [],
   "source": [
    "cat_features = ['district', \"city\"]\n",
    "encoder = CatBoostEncoder()"
   ]
  },
  {
   "cell_type": "code",
   "execution_count": 74,
   "metadata": {},
   "outputs": [],
   "source": [
    "X_train_encoded = X_train.copy()\n",
    "X_train_encoded[cat_features] = encoder.fit_transform(X_train[cat_features], y_train)"
   ]
  },
  {
   "cell_type": "code",
   "execution_count": 75,
   "metadata": {},
   "outputs": [],
   "source": [
    "X_test_encoded = X_test.copy()\n",
    "X_test_encoded[cat_features] = encoder.transform(X_test[cat_features])"
   ]
  },
  {
   "attachments": {},
   "cell_type": "markdown",
   "metadata": {},
   "source": [
    "### Save encoded values + normal names to dicts"
   ]
  },
  {
   "cell_type": "code",
   "execution_count": 76,
   "metadata": {},
   "outputs": [],
   "source": [
    "city_names_and_encoded_names = pd.DataFrame()\n",
    "\n",
    "city_names_and_encoded_names[\"city_name\"] = X_test[\"city\"]\n",
    "city_names_and_encoded_names[\"city_encoded\"] = X_test_encoded[\"city\"]\n",
    "\n",
    "unique_citys = city_names_and_encoded_names.drop_duplicates()\n",
    "city_dict = dict(zip(unique_citys[\"city_name\"], unique_citys[\"city_encoded\"]))"
   ]
  },
  {
   "cell_type": "code",
   "execution_count": 77,
   "metadata": {},
   "outputs": [],
   "source": [
    "district_names_and_encoded_names = pd.DataFrame()\n",
    "\n",
    "district_names_and_encoded_names[\"district_name\"] = X_test[\"district\"]\n",
    "district_names_and_encoded_names[\"district_encoded\"] = X_test_encoded[\"district\"]\n",
    "\n",
    "unique_district = district_names_and_encoded_names.drop_duplicates()\n",
    "district_dict = dict(zip(unique_district[\"district_name\"], unique_district[\"district_encoded\"]))"
   ]
  },
  {
   "attachments": {},
   "cell_type": "markdown",
   "metadata": {},
   "source": [
    "### Export dicts to json"
   ]
  },
  {
   "cell_type": "code",
   "execution_count": 78,
   "metadata": {},
   "outputs": [],
   "source": [
    "import json\n",
    "import io\n",
    "import os"
   ]
  },
  {
   "cell_type": "code",
   "execution_count": 79,
   "metadata": {},
   "outputs": [],
   "source": [
    "with open(\"city.json\", \"w\") as file:\n",
    "    json.dump(city_dict, file)"
   ]
  },
  {
   "cell_type": "code",
   "execution_count": 80,
   "metadata": {},
   "outputs": [],
   "source": [
    "with open(\"district.json\", \"w\") as file:\n",
    "    json.dump(district_dict, file)"
   ]
  },
  {
   "attachments": {},
   "cell_type": "markdown",
   "metadata": {},
   "source": [
    "## Define and train models"
   ]
  },
  {
   "cell_type": "code",
   "execution_count": 81,
   "metadata": {},
   "outputs": [],
   "source": [
    "model_list = []"
   ]
  },
  {
   "attachments": {},
   "cell_type": "markdown",
   "metadata": {},
   "source": [
    "### Lasso regression"
   ]
  },
  {
   "attachments": {},
   "cell_type": "markdown",
   "metadata": {},
   "source": [
    "* ### Create CV for lasso regression model"
   ]
  },
  {
   "cell_type": "code",
   "execution_count": 82,
   "metadata": {},
   "outputs": [],
   "source": [
    "from sklearn.model_selection import RepeatedKFold\n",
    "cv = RepeatedKFold(n_splits=10, n_repeats=5)"
   ]
  },
  {
   "attachments": {},
   "cell_type": "markdown",
   "metadata": {},
   "source": [
    "* ### Learn model"
   ]
  },
  {
   "cell_type": "code",
   "execution_count": 83,
   "metadata": {},
   "outputs": [],
   "source": [
    "from sklearn.linear_model import LassoCV\n",
    "lasso_model = LassoCV(cv=cv, n_jobs=-1, max_iter=10000)\n",
    "lasso_model.fit(X_train_encoded, y_train)\n",
    "model_list.append(lasso_model)"
   ]
  },
  {
   "attachments": {},
   "cell_type": "markdown",
   "metadata": {},
   "source": [
    "### Linear regression"
   ]
  },
  {
   "cell_type": "code",
   "execution_count": 84,
   "metadata": {},
   "outputs": [],
   "source": [
    "from sklearn.linear_model import LinearRegression\n",
    "linear_model = LinearRegression()\n",
    "linear_model.fit(X_train_encoded, y_train)\n",
    "model_list.append(linear_model)"
   ]
  },
  {
   "attachments": {},
   "cell_type": "markdown",
   "metadata": {},
   "source": [
    "### ElasticNET"
   ]
  },
  {
   "cell_type": "code",
   "execution_count": 85,
   "metadata": {},
   "outputs": [],
   "source": [
    "from sklearn.linear_model import ElasticNetCV\n",
    "elastic_model = ElasticNetCV(cv=cv, n_jobs=-1, max_iter=10000)\n",
    "elastic_model.fit(X_train_encoded, y_train)\n",
    "model_list.append(elastic_model)"
   ]
  },
  {
   "attachments": {},
   "cell_type": "markdown",
   "metadata": {},
   "source": [
    "### Ridge"
   ]
  },
  {
   "cell_type": "code",
   "execution_count": 86,
   "metadata": {},
   "outputs": [
    {
     "name": "stderr",
     "output_type": "stream",
     "text": [
      "c:\\Users\\mihsa\\Desktop\\ml\\ml-intensive-venv\\Lib\\site-packages\\sklearn\\linear_model\\_ridge.py:216: LinAlgWarning: Ill-conditioned matrix (rcond=6.62446e-17): result may not be accurate.\n",
      "  return linalg.solve(A, Xy, assume_a=\"pos\", overwrite_a=True).T\n"
     ]
    }
   ],
   "source": [
    "from sklearn.linear_model import Ridge\n",
    "ridge_model = Ridge(alpha=1e-10)\n",
    "ridge_model.fit(X_train_encoded, y_train)\n",
    "model_list.append(ridge_model)"
   ]
  },
  {
   "attachments": {},
   "cell_type": "markdown",
   "metadata": {},
   "source": [
    "## GradientBoosting"
   ]
  },
  {
   "cell_type": "code",
   "execution_count": 87,
   "metadata": {},
   "outputs": [],
   "source": [
    "from sklearn.ensemble import GradientBoostingRegressor\n",
    "ridge_model = GradientBoostingRegressor(learning_rate=0.1, random_state=0, max_depth=3, n_estimators=500)\n",
    "ridge_model.fit(X_train_encoded, y_train)\n",
    "model_list.append(ridge_model)"
   ]
  },
  {
   "attachments": {},
   "cell_type": "markdown",
   "metadata": {},
   "source": [
    "## Make prediction"
   ]
  },
  {
   "cell_type": "code",
   "execution_count": 88,
   "metadata": {},
   "outputs": [],
   "source": [
    "predict_list = []\n",
    "\n",
    "for model in model_list:\n",
    "    predict_list.append(model.predict(X_test_encoded))"
   ]
  },
  {
   "attachments": {},
   "cell_type": "markdown",
   "metadata": {},
   "source": [
    "## Plot of data"
   ]
  },
  {
   "cell_type": "code",
   "execution_count": 89,
   "metadata": {},
   "outputs": [],
   "source": [
    "# from matplotlib import pyplot as plt\n",
    "# from matplotlib import colors\n",
    "# import pandas as pd\n",
    "# import seaborn as sns\n",
    "# import numpy as np\n",
    "\n",
    "# ALL_COLORS = [\"blue\",\"orange\",\"purple\",\"green\",\"gray\"]\n",
    "\n",
    "# plt.figure(figsize=(400, 150))\n",
    "# sns.lineplot(x=range(len(y_test)), y=y_test.sort_values(), color='black', label='Actual')\n",
    "# plt.xlabel('Index')\n",
    "# plt.ylabel('Predicted Value')\n",
    "# plt.title('Line Plot of Predicted Values')\n",
    "\n",
    "# for i in range(0, len(model_list)):\n",
    "#     if i == 1:\n",
    "#         continue\n",
    "#     y = np.sort(predict_list[i])\n",
    "#     sns.lineplot(x=range(len(predict_list[i])), y=y, color=ALL_COLORS[i], label=type(model_list[i]).__name__)\n",
    "\n",
    "# plt.show()"
   ]
  },
  {
   "attachments": {},
   "cell_type": "markdown",
   "metadata": {},
   "source": [
    "## Check score of model"
   ]
  },
  {
   "cell_type": "code",
   "execution_count": 90,
   "metadata": {},
   "outputs": [
    {
     "name": "stdout",
     "output_type": "stream",
     "text": [
      "Scores: \n",
      "\n",
      "* LassoCV: 74.12%\t\n",
      "\n",
      "* LinearRegression: 56.39%\t\n",
      "\n",
      "* ElasticNetCV: 74.07%\t\n",
      "\n",
      "* Ridge: 56.39%\t\n",
      "\n",
      "* GradientBoostingRegressor: 99.48%\t\n"
     ]
    }
   ],
   "source": [
    "print(\"Scores: \")\n",
    "for i, model in enumerate(model_list):\n",
    "    print(f\"\\n* {type(model_list[i]).__name__}: {model.score(X_test_encoded, y_test)*100:.2f}%\\t\")"
   ]
  },
  {
   "attachments": {},
   "cell_type": "markdown",
   "metadata": {},
   "source": [
    "## Mean errors"
   ]
  },
  {
   "cell_type": "code",
   "execution_count": 91,
   "metadata": {},
   "outputs": [],
   "source": [
    "from sklearn.metrics import mean_absolute_error, mean_squared_error"
   ]
  },
  {
   "attachments": {},
   "cell_type": "markdown",
   "metadata": {},
   "source": [
    "### Absolute"
   ]
  },
  {
   "cell_type": "code",
   "execution_count": 92,
   "metadata": {},
   "outputs": [
    {
     "name": "stdout",
     "output_type": "stream",
     "text": [
      "MAE (Mean Absolute Error): \n",
      "\n",
      "* LassoCV: 128538.20\t\n",
      "\n",
      "* LinearRegression: 154459.61\t\n",
      "\n",
      "* ElasticNetCV: 128701.89\t\n",
      "\n",
      "* Ridge: 154459.61\t\n",
      "\n",
      "* GradientBoostingRegressor: 14814.26\t\n"
     ]
    }
   ],
   "source": [
    "print(\"MAE (Mean Absolute Error): \")\n",
    "for i, predict in enumerate(predict_list):\n",
    "    mse = mean_absolute_error(y_true=y_test, y_pred=predict)\n",
    "    print(f\"\\n* {type(model_list[i]).__name__}: {mse:.2f}\\t\")"
   ]
  },
  {
   "attachments": {},
   "cell_type": "markdown",
   "metadata": {},
   "source": [
    "### Squared"
   ]
  },
  {
   "cell_type": "code",
   "execution_count": 93,
   "metadata": {},
   "outputs": [
    {
     "name": "stdout",
     "output_type": "stream",
     "text": [
      "MSE (Mean Squared Error): \n",
      "\n",
      "* LassoCV: 26454171653.08\t\n",
      "\n",
      "* LinearRegression: 44579983507.45\t\n",
      "\n",
      "* ElasticNetCV: 26511378631.54\t\n",
      "\n",
      "* Ridge: 44579983516.86\t\n",
      "\n",
      "* GradientBoostingRegressor: 536441874.59\t\n"
     ]
    }
   ],
   "source": [
    "print(\"MSE (Mean Squared Error): \")\n",
    "for i, predict in enumerate(predict_list):\n",
    "    print(f\"\\n* {type(model_list[i]).__name__}: {mean_squared_error(y_test, predict):.2f}\\t\")\n"
   ]
  }
 ],
 "metadata": {
  "kernelspec": {
   "display_name": "machine_learning",
   "language": "python",
   "name": "python3"
  },
  "language_info": {
   "codemirror_mode": {
    "name": "ipython",
    "version": 3
   },
   "file_extension": ".py",
   "mimetype": "text/x-python",
   "name": "python",
   "nbconvert_exporter": "python",
   "pygments_lexer": "ipython3",
   "version": "3.11.4"
  },
  "orig_nbformat": 4
 },
 "nbformat": 4,
 "nbformat_minor": 2
}
